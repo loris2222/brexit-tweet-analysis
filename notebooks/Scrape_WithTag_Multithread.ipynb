{
 "cells": [
  {
   "cell_type": "code",
   "execution_count": 2,
   "metadata": {},
   "outputs": [],
   "source": [
    "# importing the requests library \n",
    "import requests\n",
    "from lxml import html\n",
    "import os\n",
    "import glob\n",
    "import pandas as pd\n",
    "import time\n",
    "import numpy as np\n",
    "from threading import Thread\n",
    "import queue"
   ]
  },
  {
   "cell_type": "code",
   "execution_count": 3,
   "metadata": {},
   "outputs": [],
   "source": [
    "URL = \"https://twitter.com/user/status/\"\n",
    "\n",
    "data = pd.read_csv('C:/Users/Loris/Documents/Uni/USDA/project/Data/tweets_stance_sentiment_1outof4.csv', sep='~', header=0)"
   ]
  },
  {
   "cell_type": "code",
   "execution_count": 4,
   "metadata": {},
   "outputs": [
    {
     "data": {
      "text/html": [
       "<div>\n",
       "<style scoped>\n",
       "    .dataframe tbody tr th:only-of-type {\n",
       "        vertical-align: middle;\n",
       "    }\n",
       "\n",
       "    .dataframe tbody tr th {\n",
       "        vertical-align: top;\n",
       "    }\n",
       "\n",
       "    .dataframe thead th {\n",
       "        text-align: right;\n",
       "    }\n",
       "</style>\n",
       "<table border=\"1\" class=\"dataframe\">\n",
       "  <thead>\n",
       "    <tr style=\"text-align: right;\">\n",
       "      <th></th>\n",
       "      <th>ID</th>\n",
       "      <th>user_id</th>\n",
       "      <th>t_sentiment</th>\n",
       "      <th>t_stance</th>\n",
       "    </tr>\n",
       "  </thead>\n",
       "  <tbody>\n",
       "    <tr>\n",
       "      <th>0</th>\n",
       "      <td>682715594110689280</td>\n",
       "      <td>259896187</td>\n",
       "      <td>positive</td>\n",
       "      <td>remain</td>\n",
       "    </tr>\n",
       "    <tr>\n",
       "      <th>1</th>\n",
       "      <td>682715872205651968</td>\n",
       "      <td>6312362</td>\n",
       "      <td>neutral</td>\n",
       "      <td>other</td>\n",
       "    </tr>\n",
       "    <tr>\n",
       "      <th>2</th>\n",
       "      <td>682716086681382912</td>\n",
       "      <td>259896187</td>\n",
       "      <td>negative</td>\n",
       "      <td>remain</td>\n",
       "    </tr>\n",
       "    <tr>\n",
       "      <th>3</th>\n",
       "      <td>682716257402109952</td>\n",
       "      <td>6312362</td>\n",
       "      <td>positive</td>\n",
       "      <td>other</td>\n",
       "    </tr>\n",
       "    <tr>\n",
       "      <th>4</th>\n",
       "      <td>682716531470544896</td>\n",
       "      <td>259896187</td>\n",
       "      <td>neutral</td>\n",
       "      <td>other</td>\n",
       "    </tr>\n",
       "  </tbody>\n",
       "</table>\n",
       "</div>"
      ],
      "text/plain": [
       "                   ID    user_id t_sentiment t_stance\n",
       "0  682715594110689280  259896187    positive   remain\n",
       "1  682715872205651968    6312362     neutral    other\n",
       "2  682716086681382912  259896187    negative   remain\n",
       "3  682716257402109952    6312362    positive    other\n",
       "4  682716531470544896  259896187     neutral    other"
      ]
     },
     "execution_count": 4,
     "metadata": {},
     "output_type": "execute_result"
    }
   ],
   "source": [
    "data.head()"
   ]
  },
  {
   "cell_type": "code",
   "execution_count": 54,
   "metadata": {},
   "outputs": [],
   "source": [
    "result = []"
   ]
  },
  {
   "cell_type": "code",
   "execution_count": 56,
   "metadata": {},
   "outputs": [],
   "source": [
    "concurrent = 200\n",
    "\n",
    "def doWork():\n",
    "    while True:\n",
    "        row = q.get()\n",
    "        id = row['ID']\n",
    "        user_id = row['user_id']\n",
    "        t_sentiment = row['t_sentiment']\n",
    "        t_stance = row['t_stance']\n",
    "        # sending get request and saving the response as response object \n",
    "        page = requests.get(URL+str(id))\n",
    "        tree = html.fromstring(page.content)\n",
    "        tweetText = tree.xpath('//title/text()')[0]\n",
    "        split = page.url.split('/')\n",
    "        tag = split[3]\n",
    "        if tag==\"user\":\n",
    "            tag=\"\"\n",
    "        if(str(tweetText).startswith('Twitter')):\n",
    "            tweetText = \"\"\n",
    "        else:\n",
    "            tweetText = \" \".join(tweetText.splitlines())\n",
    "        result.append({'ID': id, 'user_id': user_id, 'user_tag': tag, 't_sentiment': t_sentiment, 't_stance': t_stance, 'text': tweetText})\n",
    "        q.task_done()"
   ]
  },
  {
   "cell_type": "code",
   "execution_count": 57,
   "metadata": {},
   "outputs": [
    {
     "name": "stdout",
     "output_type": "stream",
     "text": [
      "Execution time:  1.520341396331787\n"
     ]
    }
   ],
   "source": [
    "startTime = time.time()\n",
    "q = queue.Queue(concurrent * 2)\n",
    "for i in range(concurrent):\n",
    "    t = Thread(target=doWork)\n",
    "    t.daemon = True\n",
    "    t.start()\n",
    "try:\n",
    "    for index, row in data.head(100).iterrows():\n",
    "        q.put(row)\n",
    "    q.join()\n",
    "except KeyboardInterrupt:\n",
    "    sys.exit(1)\n",
    "    \n",
    "print(\"Execution time: \",time.time()-startTime)"
   ]
  },
  {
   "cell_type": "code",
   "execution_count": 59,
   "metadata": {},
   "outputs": [],
   "source": [
    "dataFrame = pd.DataFrame(result)\n",
    "dataFrame.to_csv('C:/Users/Loris/Documents/Uni/USDA/project/Data/withText_threadtest.csv', index=False)"
   ]
  },
  {
   "cell_type": "code",
   "execution_count": null,
   "metadata": {},
   "outputs": [],
   "source": []
  }
 ],
 "metadata": {
  "kernelspec": {
   "display_name": "Python 3",
   "language": "python",
   "name": "python3"
  },
  "language_info": {
   "codemirror_mode": {
    "name": "ipython",
    "version": 3
   },
   "file_extension": ".py",
   "mimetype": "text/x-python",
   "name": "python",
   "nbconvert_exporter": "python",
   "pygments_lexer": "ipython3",
   "version": "3.7.3"
  }
 },
 "nbformat": 4,
 "nbformat_minor": 4
}
