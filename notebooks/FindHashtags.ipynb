{
 "cells": [
  {
   "cell_type": "code",
   "execution_count": 1,
   "metadata": {},
   "outputs": [],
   "source": [
    "# importing the requests library \n",
    "import requests\n",
    "from lxml import html\n",
    "import os\n",
    "import glob\n",
    "import pandas as pd\n",
    "import time\n",
    "import re"
   ]
  },
  {
   "cell_type": "code",
   "execution_count": 2,
   "metadata": {},
   "outputs": [],
   "source": [
    "data = pd.read_csv('C:/Users/Loris/Documents/Uni/USDA/project/Data/withText.csv', sep=',', header=0)"
   ]
  },
  {
   "cell_type": "code",
   "execution_count": 3,
   "metadata": {},
   "outputs": [
    {
     "data": {
      "text/html": [
       "<div>\n",
       "<style scoped>\n",
       "    .dataframe tbody tr th:only-of-type {\n",
       "        vertical-align: middle;\n",
       "    }\n",
       "\n",
       "    .dataframe tbody tr th {\n",
       "        vertical-align: top;\n",
       "    }\n",
       "\n",
       "    .dataframe thead th {\n",
       "        text-align: right;\n",
       "    }\n",
       "</style>\n",
       "<table border=\"1\" class=\"dataframe\">\n",
       "  <thead>\n",
       "    <tr style=\"text-align: right;\">\n",
       "      <th></th>\n",
       "      <th>ID</th>\n",
       "      <th>user_id</th>\n",
       "      <th>user_tag</th>\n",
       "      <th>t_sentiment</th>\n",
       "      <th>t_stance</th>\n",
       "      <th>text</th>\n",
       "    </tr>\n",
       "  </thead>\n",
       "  <tbody>\n",
       "    <tr>\n",
       "      <th>0</th>\n",
       "      <td>682715594110689280</td>\n",
       "      <td>259896187</td>\n",
       "      <td>NaN</td>\n",
       "      <td>positive</td>\n",
       "      <td>remain</td>\n",
       "      <td>NaN</td>\n",
       "    </tr>\n",
       "    <tr>\n",
       "      <th>1</th>\n",
       "      <td>682715872205651968</td>\n",
       "      <td>6312362</td>\n",
       "      <td>NaN</td>\n",
       "      <td>neutral</td>\n",
       "      <td>other</td>\n",
       "      <td>NaN</td>\n",
       "    </tr>\n",
       "    <tr>\n",
       "      <th>2</th>\n",
       "      <td>682716086681382912</td>\n",
       "      <td>259896187</td>\n",
       "      <td>Mativenko80</td>\n",
       "      <td>negative</td>\n",
       "      <td>remain</td>\n",
       "      <td>Evans su Twitter: \"@RyanWatersUKIP So, let's h...</td>\n",
       "    </tr>\n",
       "    <tr>\n",
       "      <th>3</th>\n",
       "      <td>682716257402109952</td>\n",
       "      <td>6312362</td>\n",
       "      <td>DrRyanWaters</td>\n",
       "      <td>positive</td>\n",
       "      <td>other</td>\n",
       "      <td>Dr Ryan Waters❌ su Twitter: \"@Mativenko80 odd ...</td>\n",
       "    </tr>\n",
       "    <tr>\n",
       "      <th>4</th>\n",
       "      <td>682716531470544896</td>\n",
       "      <td>259896187</td>\n",
       "      <td>NaN</td>\n",
       "      <td>neutral</td>\n",
       "      <td>other</td>\n",
       "      <td>NaN</td>\n",
       "    </tr>\n",
       "  </tbody>\n",
       "</table>\n",
       "</div>"
      ],
      "text/plain": [
       "                   ID    user_id      user_tag t_sentiment t_stance  \\\n",
       "0  682715594110689280  259896187           NaN    positive   remain   \n",
       "1  682715872205651968    6312362           NaN     neutral    other   \n",
       "2  682716086681382912  259896187   Mativenko80    negative   remain   \n",
       "3  682716257402109952    6312362  DrRyanWaters    positive    other   \n",
       "4  682716531470544896  259896187           NaN     neutral    other   \n",
       "\n",
       "                                                text  \n",
       "0                                                NaN  \n",
       "1                                                NaN  \n",
       "2  Evans su Twitter: \"@RyanWatersUKIP So, let's h...  \n",
       "3  Dr Ryan Waters❌ su Twitter: \"@Mativenko80 odd ...  \n",
       "4                                                NaN  "
      ]
     },
     "execution_count": 3,
     "metadata": {},
     "output_type": "execute_result"
    }
   ],
   "source": [
    "data.head()"
   ]
  },
  {
   "cell_type": "code",
   "execution_count": 4,
   "metadata": {},
   "outputs": [],
   "source": [
    "hashtags = []\n",
    "mentions = []"
   ]
  },
  {
   "cell_type": "code",
   "execution_count": 5,
   "metadata": {},
   "outputs": [
    {
     "name": "stdout",
     "output_type": "stream",
     "text": [
      "Execution time:  0.6561477184295654\n"
     ]
    }
   ],
   "source": [
    "startTime = time.time()\n",
    "for index, row in data.iterrows():\n",
    "    s = str(row['text'])\n",
    "    id = str(row['ID'])\n",
    "    h = re.findall(r\"#(\\w+)\", s)\n",
    "    m = re.findall(r\"@(\\w+)\", s)\n",
    "    for i in h:\n",
    "        df = {'ID': id, 'hashtag': i}\n",
    "        hashtags.append(df)\n",
    "    for i in m:\n",
    "        df = {'ID': id, 'mention': i}\n",
    "        mentions.append(df)\n",
    "\n",
    "print(\"Execution time: \",time.time()-startTime)"
   ]
  },
  {
   "cell_type": "code",
   "execution_count": 6,
   "metadata": {},
   "outputs": [],
   "source": [
    "dataFrame = pd.DataFrame(hashtags)\n",
    "dataFrame.to_csv('C:/Users/Loris/Documents/Uni/USDA/project/Data/hashtags.csv', index=False)\n",
    "\n",
    "dataFrame = pd.DataFrame(mentions)\n",
    "dataFrame.to_csv('C:/Users/Loris/Documents/Uni/USDA/project/Data/mentions.csv', index=False)"
   ]
  },
  {
   "cell_type": "code",
   "execution_count": null,
   "metadata": {},
   "outputs": [],
   "source": []
  }
 ],
 "metadata": {
  "kernelspec": {
   "display_name": "Python 3",
   "language": "python",
   "name": "python3"
  },
  "language_info": {
   "codemirror_mode": {
    "name": "ipython",
    "version": 3
   },
   "file_extension": ".py",
   "mimetype": "text/x-python",
   "name": "python",
   "nbconvert_exporter": "python",
   "pygments_lexer": "ipython3",
   "version": "3.7.3"
  }
 },
 "nbformat": 4,
 "nbformat_minor": 4
}
